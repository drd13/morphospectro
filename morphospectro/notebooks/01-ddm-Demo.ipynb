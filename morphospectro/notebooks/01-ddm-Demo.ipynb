{
 "cells": [
  {
   "cell_type": "markdown",
   "metadata": {},
   "source": [
    "## Demo\n",
    "\n",
    "This notebook serves to demo the ongoing training code."
   ]
  },
  {
   "cell_type": "code",
   "execution_count": null,
   "metadata": {},
   "outputs": [],
   "source": [
    "from morphospectro.utils.datasets import GalaxyDataset\n",
    "import torch\n",
    "import torch.nn as nn\n",
    "import torch.nn.functional as F\n",
    "\n",
    "import torchvision\n",
    "import torchvision.transforms as transforms\n",
    "from morphospectro.utils.networks import Feedforward\n",
    "from skimage import io, transform\n",
    "import matplotlib.pyplot as plt"
   ]
  },
  {
   "cell_type": "code",
   "execution_count": null,
   "metadata": {},
   "outputs": [],
   "source": [
    "dataset= GalaxyDataset(spectra_file = \"/home/drd13/outputs/data/raw/data/s0_spectra.h5\",image_folder = \"/home/drd13/outputs/data/raw/data/images\")\n"
   ]
  },
  {
   "cell_type": "code",
   "execution_count": null,
   "metadata": {},
   "outputs": [],
   "source": [
    "test_im = dataset[0][1]\n",
    "test_im= torch.tensor(test_im).unsqueeze(0)\n",
    "test_im= test_im.permute(0,3,1,2)\n",
    "test_im = torch.true_divide(test_im,255)\n",
    "print(test_im.shape)"
   ]
  },
  {
   "cell_type": "code",
   "execution_count": null,
   "metadata": {},
   "outputs": [],
   "source": [
    "test_spec = dataset[0][0].unsqueeze(0)\n",
    "test_spec.shape"
   ]
  },
  {
   "cell_type": "code",
   "execution_count": null,
   "metadata": {},
   "outputs": [],
   "source": [
    "n_batch = 64\n",
    "loader = torch.utils.data.DataLoader(dataset = dataset,\n",
    "                                     batch_size = n_batch,\n",
    "                                     shuffle = False,\n",
    "                                     drop_last=True)"
   ]
  },
  {
   "cell_type": "code",
   "execution_count": null,
   "metadata": {},
   "outputs": [],
   "source": [
    "lr = 0.0001\n",
    "feedforward = Feedforward([3280,1024,512,50,512,1024,3280])\n",
    "optimizer = torch.optim.Adam(feedforward.parameters(), lr=lr)"
   ]
  },
  {
   "cell_type": "code",
   "execution_count": null,
   "metadata": {},
   "outputs": [],
   "source": [
    "class FullNetwork(nn.Module):\n",
    "    def __init__(self,im_network,spec_network,merged_network):\n",
    "        super(FullNetwork, self).__init__()      \n",
    "        self.im_network = im_network\n",
    "        self.spec_network = spec_network\n",
    "        self.merged_network = merged_network\n",
    "\n",
    "\n",
    "    def forward(self, spec, im):\n",
    "        latent_im  = self.im_network(im)\n",
    "        latent_spec  = self.spec_network(spec)\n",
    "        merged_latent = torch.cat((latent_im,latent_spec),dim=1)\n",
    "        pred_match = merged_network(merged_latent)\n",
    "        return pred_match"
   ]
  },
  {
   "cell_type": "code",
   "execution_count": null,
   "metadata": {},
   "outputs": [],
   "source": [
    "class ConvNet(nn.Module):\n",
    "\n",
    "    def __init__(self):\n",
    "        super(ConvNet, self).__init__()\n",
    "        # 1 input image channel, 6 output channels, 3x3 square convolution\n",
    "        # kernel\n",
    "        self.conv1 = nn.Conv2d(3, 6, 3)\n",
    "        self.conv2 = nn.Conv2d(6, 16, 3)\n",
    "        # an affine operation: y = Wx + b\n",
    "        self.fc1 = nn.Linear(61504, 120)  # 6*6 from image dimension\n",
    "        self.fc2 = nn.Linear(120, 84)\n",
    "        self.fc3 = nn.Linear(84, 50)\n",
    "\n",
    "    def forward(self, x):\n",
    "        # Max pooling over a (2, 2) window\n",
    "        x = F.max_pool2d(F.relu(self.conv1(x)), (2, 2))\n",
    "        # If the size is a square you can only specify a single number\n",
    "        x = F.max_pool2d(F.relu(self.conv2(x)), 2)\n",
    "        x = x.view(-1, self.num_flat_features(x))\n",
    "        x = F.relu(self.fc1(x))\n",
    "        x = F.relu(self.fc2(x))\n",
    "        x = self.fc3(x)\n",
    "        return x\n",
    "\n",
    "    def num_flat_features(self, x):\n",
    "        size = x.size()[1:]  # all dimensions except the batch dimension\n",
    "        num_features = 1\n",
    "        for s in size:\n",
    "            num_features *= s\n",
    "        return num_features"
   ]
  },
  {
   "cell_type": "code",
   "execution_count": null,
   "metadata": {},
   "outputs": [],
   "source": [
    "spec_network = Feedforward([3280,1024,512,50])\n",
    "im_network = ConvNet()\n",
    "merged_network = Feedforward([100,64,32,1])\n",
    "full_network = FullNetwork(im_network,spec_network,merged_network)"
   ]
  },
  {
   "cell_type": "code",
   "execution_count": null,
   "metadata": {},
   "outputs": [],
   "source": [
    "optimizer_full = torch.optim.Adam(full_network.parameters(), lr=lr)"
   ]
  },
  {
   "cell_type": "code",
   "execution_count": null,
   "metadata": {},
   "outputs": [],
   "source": [
    "full_network(test_im,test_spec)"
   ]
  },
  {
   "cell_type": "code",
   "execution_count": null,
   "metadata": {},
   "outputs": [],
   "source": [
    "#loss = torch.nn.CrossEntropyLoss()\n",
    "loss = torch.nn.MSELoss()"
   ]
  },
  {
   "cell_type": "code",
   "execution_count": null,
   "metadata": {},
   "outputs": [],
   "source": [
    "im.shape"
   ]
  },
  {
   "cell_type": "code",
   "execution_count": null,
   "metadata": {},
   "outputs": [],
   "source": [
    "for i in range(100):\n",
    "    for (spec,im,idx) in loader:\n",
    "        #optimizer.zero_grad()\n",
    "        prob_match = full_network(spec,im)\n",
    "        #err = loss(spec_pred,spec)\n",
    "        #err.backward()\n",
    "        #optimizer.step()\n",
    "        print(prob_match)\n",
    "        print(f\"err:{err}\")"
   ]
  },
  {
   "cell_type": "code",
   "execution_count": null,
   "metadata": {},
   "outputs": [],
   "source": [
    "label_real = torch.ones(n_batch,1)\n",
    "label_scrambeled = torch.zeros(n_batch,1)\n",
    "for i in range(100):\n",
    "    for (spec,im,idx) in loader:\n",
    "        #optimizer.zero_grad()\n",
    "        scrambled_spec = randomize(spec)\n",
    "        prob_real = full_network(spec,im)\n",
    "        prob_scrambeled = full_network(scrambled_spec,im)\n",
    "        err_real = loss(prob_real,label_real)\n",
    "        err_fake = loss(prob_scrambeled,label_scrambeled)\n",
    "        err_tot = err_real+err_fake\n",
    "        err_tot.backward()\n",
    "        print(prob_match)\n",
    "        print(f\"err:{err}\")"
   ]
  },
  {
   "cell_type": "code",
   "execution_count": null,
   "metadata": {},
   "outputs": [],
   "source": [
    "prob_match.shape"
   ]
  },
  {
   "cell_type": "code",
   "execution_count": null,
   "metadata": {},
   "outputs": [],
   "source": [
    "for i in range(100):\n",
    "    for (spec,im,idx) in loader:\n",
    "        optimizer.zero_grad()\n",
    "        spec_pred = feedforward(spec)\n",
    "        err = loss(spec_pred,spec)\n",
    "        err.backward()\n",
    "        optimizer.step()\n",
    "        print(f\"err:{err}\")"
   ]
  },
  {
   "cell_type": "code",
   "execution_count": null,
   "metadata": {},
   "outputs": [],
   "source": [
    "err =loss(spec_pred,spec)"
   ]
  },
  {
   "cell_type": "code",
   "execution_count": null,
   "metadata": {},
   "outputs": [],
   "source": [
    "feedforward"
   ]
  },
  {
   "cell_type": "code",
   "execution_count": null,
   "metadata": {},
   "outputs": [],
   "source": [
    "err.backward()"
   ]
  },
  {
   "cell_type": "code",
   "execution_count": null,
   "metadata": {},
   "outputs": [],
   "source": [
    "feedforward.fc[0].weight.grad"
   ]
  },
  {
   "cell_type": "code",
   "execution_count": null,
   "metadata": {},
   "outputs": [],
   "source": []
  }
 ],
 "metadata": {
  "kernelspec": {
   "display_name": "Python 3",
   "language": "python",
   "name": "python3"
  },
  "language_info": {
   "codemirror_mode": {
    "name": "ipython",
    "version": 3
   },
   "file_extension": ".py",
   "mimetype": "text/x-python",
   "name": "python",
   "nbconvert_exporter": "python",
   "pygments_lexer": "ipython3",
   "version": "3.7.8"
  }
 },
 "nbformat": 4,
 "nbformat_minor": 4
}

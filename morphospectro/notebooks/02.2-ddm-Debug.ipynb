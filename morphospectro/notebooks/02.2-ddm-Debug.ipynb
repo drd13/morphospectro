{
 "cells": [
  {
   "cell_type": "markdown",
   "metadata": {},
   "source": [
    "## Demo\n",
    "\n",
    "This notebook serves to demo the ongoing training code."
   ]
  },
  {
   "cell_type": "code",
   "execution_count": null,
   "metadata": {},
   "outputs": [],
   "source": [
    "! ls /home/jtousmayol/scripts/datasets2.py"
   ]
  },
  {
   "cell_type": "code",
   "execution_count": null,
   "metadata": {},
   "outputs": [],
   "source": [
    "! ls ../utils"
   ]
  },
  {
   "cell_type": "code",
   "execution_count": null,
   "metadata": {},
   "outputs": [],
   "source": [
    "!cp /home/jtousmayol/scripts/datasets2.py ../utils"
   ]
  },
  {
   "cell_type": "code",
   "execution_count": null,
   "metadata": {},
   "outputs": [],
   "source": [
    "from morphospectro.utils.datasets2 import GalaxyDataset2\n",
    "import torch\n",
    "import torch.nn as nn\n",
    "import torch.nn.functional as F\n",
    "\n",
    "import torchvision\n",
    "import torchvision.transforms as transforms\n",
    "from skimage import io, transform\n",
    "import matplotlib.pyplot as plt\n",
    "\n",
    "from morphospectro.utils.networks import Feedforward,FullNet,ConvNet,ConvNetBasic,SpectraEmbedding,ImageEmbedding"
   ]
  },
  {
   "cell_type": "code",
   "execution_count": null,
   "metadata": {},
   "outputs": [],
   "source": [
    "g = GalaxyDataset2('/home/jtousmayol/scripts/spectra/sample_spectra.h5', '/home/jtousmayol/scripts/img')"
   ]
  },
  {
   "cell_type": "code",
   "execution_count": null,
   "metadata": {},
   "outputs": [],
   "source": [
    "dataset = GalaxyDataset2('/home/jtousmayol/scripts/spectra/sample_spectra.h5', '/home/jtousmayol/scripts/img',size=5000)\n",
    "#dataset= GalaxyDataset2(spectra_file = \"/home/drd13/outputs/data/raw/data/s0_spectra.h5\",image_folder = \"/home/drd13/outputs/data/raw/data/images2\",debug=False,size=1000)\n",
    "\n",
    "\n",
    "n_batch = 100\n",
    "lr = 0.001\n",
    "\n",
    "loader = torch.utils.data.DataLoader(dataset = dataset,\n",
    "                                     batch_size = n_batch,\n",
    "                                     shuffle = True,\n",
    "                                     drop_last=True)"
   ]
  },
  {
   "cell_type": "code",
   "execution_count": null,
   "metadata": {},
   "outputs": [],
   "source": [
    "test_dataset = GalaxyDataset2('/home/jtousmayol/scripts/spectra/sample_spectra.h5', '/home/jtousmayol/scripts/img',size=500,idx_start=5000)\n",
    "\n",
    "#test_dataset= GalaxyDataset(spectra_file = \"/home/drd13/outputs/data/raw/data/s0_spectra.h5\",image_folder = \"/home/drd13/outputs/data/raw/data/images2\",debug=False,size=500,idx_start=3000)\n",
    "\n",
    "\n",
    "\n",
    "test_loader = torch.utils.data.DataLoader(dataset = test_dataset,\n",
    "                                     batch_size = n_batch,\n",
    "                                     shuffle = True,\n",
    "                                     drop_last=True)"
   ]
  },
  {
   "cell_type": "code",
   "execution_count": null,
   "metadata": {},
   "outputs": [],
   "source": [
    "spec_network = Feedforward([1000,256,50],final_activation=True)\n",
    "im_network = ConvNetBasic(n_channels = 1)\n",
    "merged_network = Feedforward([100,32,1])\n",
    "\n",
    "full_network = FullNet(spec_network,im_network,merged_network)\n",
    "optimizer = torch.optim.Adam(full_network.parameters(), lr=lr)"
   ]
  },
  {
   "cell_type": "code",
   "execution_count": null,
   "metadata": {},
   "outputs": [],
   "source": [
    "#loss = torch.nn.CrossEntropyLoss()\n",
    "loss = torch.nn.BCEWithLogitsLoss()"
   ]
  },
  {
   "cell_type": "code",
   "execution_count": null,
   "metadata": {},
   "outputs": [],
   "source": [
    "full_network"
   ]
  },
  {
   "cell_type": "code",
   "execution_count": null,
   "metadata": {},
   "outputs": [],
   "source": [
    "dataset[0][0].shape"
   ]
  },
  {
   "cell_type": "code",
   "execution_count": null,
   "metadata": {},
   "outputs": [],
   "source": [
    "label_real = torch.ones(n_batch,1)\n",
    "label_scrambled = torch.zeros(n_batch,1)\n",
    "\n",
    "for i in range(1000):\n",
    "    for j,(spec,im,idx) in enumerate(loader):\n",
    "        \n",
    "        optimizer.zero_grad()\n",
    "        #scrambled_spec = spec[torch.randperm(n_batch)] #shuffle spec within batch\n",
    "        \n",
    "        prob_real = full_network(spec,im)\n",
    "        err_real = loss(prob_real,label_real)\n",
    "        #err_real.backward()\n",
    "        \n",
    "        (scrambled_spec,scrambled_im,scrambled_idx) = next(iter(loader))\n",
    "\n",
    "\n",
    "        prob_scrambled = full_network(scrambled_spec,im)\n",
    "        err_fake = loss(prob_scrambled,label_scrambled)\n",
    "        #err_fake.backward()\n",
    "        \n",
    "        err_tot = err_fake+err_real#err_real+err_fake\n",
    "        err_tot.backward()\n",
    "        \n",
    "        optimizer.step()\n",
    "        print(f\"err:{err_tot},j:{j}\")\n",
    "    \"\"\"    \n",
    "    for (spec,im,idx) in test_loader:\n",
    "        with torch.no_grad():\n",
    "            prob_real = full_network(spec,im)\n",
    "            err_real = loss(prob_real,label_real)\n",
    "            (scrambled_spec,scrambled_im,scrambled_idx) = next(iter(loader))\n",
    "            prob_scrambled = full_network(scrambled_spec,im)\n",
    "            err_fake = loss(prob_scrambled,label_scrambled)\n",
    "            err_tot = err_fake+err_real\n",
    "            print(f\"test err:{err_tot}\")\n",
    "   \"\"\" \n",
    "    "
   ]
  },
  {
   "cell_type": "code",
   "execution_count": null,
   "metadata": {},
   "outputs": [],
   "source": [
    "for (spec,im,idx) in test_loader:\n",
    "    with torch.no_grad():\n",
    "        prob_real = full_network(spec,im)\n",
    "        err_real = loss(prob_real,label_real)\n",
    "        (scrambled_spec,scrambled_im,scrambled_idx) = next(iter(test_loader))\n",
    "        prob_scrambled = full_network(scrambled_spec,im)\n",
    "        err_fake = loss(prob_scrambled,label_scrambled)\n",
    "        err_tot = err_fake+err_real\n",
    "        print(f\"test err:{err_tot}\")"
   ]
  },
  {
   "cell_type": "code",
   "execution_count": null,
   "metadata": {},
   "outputs": [],
   "source": [
    "print(torch.mean(F.sigmoid(prob_real)))"
   ]
  },
  {
   "cell_type": "code",
   "execution_count": null,
   "metadata": {},
   "outputs": [],
   "source": [
    "torch.sum(prob_real>0)"
   ]
  },
  {
   "cell_type": "code",
   "execution_count": null,
   "metadata": {},
   "outputs": [],
   "source": [
    "torch.sum(prob_scrambled>0)"
   ]
  },
  {
   "cell_type": "code",
   "execution_count": null,
   "metadata": {},
   "outputs": [],
   "source": [
    "plt.imshow(dataset[400][1][0])"
   ]
  },
  {
   "cell_type": "code",
   "execution_count": null,
   "metadata": {},
   "outputs": [],
   "source": [
    "! pip install captum"
   ]
  },
  {
   "cell_type": "code",
   "execution_count": null,
   "metadata": {},
   "outputs": [],
   "source": [
    "from captum.attr import Saliency\n",
    "saliency = Saliency(full_network)"
   ]
  },
  {
   "cell_type": "code",
   "execution_count": null,
   "metadata": {},
   "outputs": [],
   "source": [
    "sal_inputs = saliency.attribute((spec,im))"
   ]
  },
  {
   "cell_type": "code",
   "execution_count": null,
   "metadata": {},
   "outputs": [],
   "source": [
    "idx = 5\n",
    "fig,ax = plt.subplots(2,1)\n",
    "ax[0].plot(sal_inputs[0][idx]*20,label=\"explanation\")\n",
    "ax[0].legend()\n",
    "ax[1].plot(spec[idx].detach().numpy(),label=\"spectra\")\n",
    "ax[1].legend()\n",
    "ax[1].set_xlabel(\"wavelength-ish\")\n",
    "ax[0].set_ylabel(\"importance\")\n",
    "ax[0].set_ylabel(\"flux-ish\")\n",
    "ax[0].set_xlabel(\"wavelength-ish\")"
   ]
  },
  {
   "cell_type": "code",
   "execution_count": null,
   "metadata": {},
   "outputs": [],
   "source": [
    "idx = 10\n",
    "fig,ax = plt.subplots(2,1,figsize= (8,8))\n",
    "ax[0].imshow(sal_inputs[1][idx,0])\n",
    "ax[0].axis(\"off\")\n",
    "ax[0].set_title(\"attribution\")\n",
    "ax[1].set_title(\"input image\")\n",
    "ax[1].imshow(im[idx,0])\n",
    "ax[1].axis(\"off\")\n"
   ]
  },
  {
   "cell_type": "code",
   "execution_count": null,
   "metadata": {},
   "outputs": [],
   "source": [
    "plt.imshow(dataset.get_image(0))\n",
    "plt.axis(\"off\")"
   ]
  },
  {
   "cell_type": "code",
   "execution_count": null,
   "metadata": {},
   "outputs": [],
   "source": [
    "plt.imshow(dataset[0][1][0])\n",
    "plt.axis(\"off\")"
   ]
  },
  {
   "cell_type": "code",
   "execution_count": null,
   "metadata": {},
   "outputs": [],
   "source": [
    "plt.plot(dataset[0][0])\n",
    "plt.ylabel(\"flux\")\n",
    "plt.xlabel(\"wavelength-ish\")"
   ]
  },
  {
   "cell_type": "code",
   "execution_count": null,
   "metadata": {},
   "outputs": [],
   "source": []
  }
 ],
 "metadata": {
  "kernelspec": {
   "display_name": "Python 3",
   "language": "python",
   "name": "python3"
  },
  "language_info": {
   "codemirror_mode": {
    "name": "ipython",
    "version": 3
   },
   "file_extension": ".py",
   "mimetype": "text/x-python",
   "name": "python",
   "nbconvert_exporter": "python",
   "pygments_lexer": "ipython3",
   "version": "3.7.8"
  }
 },
 "nbformat": 4,
 "nbformat_minor": 4
}
